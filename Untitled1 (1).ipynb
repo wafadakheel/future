{
 "cells": [
  {
   "cell_type": "code",
   "execution_count": null,
   "id": "e6a2adde-468f-4474-a130-02d0a1542b6d",
   "metadata": {},
   "outputs": [],
   "source": [
    "# Data Science Tools and Techniques"
   ]
  },
  {
   "cell_type": "code",
   "execution_count": null,
   "id": "6e826fb6-6205-4f05-b5f6-7b1a77976e91",
   "metadata": {},
   "outputs": [],
   "source": [
    "## Introduction\n",
    "\n",
    "Welcome to my JupyterLite Notebook on Data Science Tools and Techniques. In this notebook, I'll explore various data science languages, libraries, and tools. We'll cover arithmetic expressions, code examples, and key objectives in the field of data science.\n",
    "\n",
    "Let's dive in!\n"
   ]
  },
  {
   "cell_type": "code",
   "execution_count": null,
   "id": "4dae3418-354a-43f1-ab05-7c48e72e9cab",
   "metadata": {},
   "outputs": [],
   "source": [
    "## Data Science Languages\n",
    "\n",
    "- Python\n",
    "- R\n",
    "- Julia\n",
    "- SQL\n"
   ]
  },
  {
   "cell_type": "code",
   "execution_count": null,
   "id": "c63cd588-34a0-4447-8973-bfd07c68c496",
   "metadata": {},
   "outputs": [],
   "source": [
    "## Data Science Libraries\n",
    "\n",
    "- NumPy\n",
    "- Pandas\n",
    "- Matplotlib\n",
    "- Seaborn\n",
    "- Scikit-learn\n",
    "- TensorFlow\n",
    "- PyTorch\n"
   ]
  },
  {
   "cell_type": "code",
   "execution_count": null,
   "id": "0b293c93-a7db-4051-8f85-2d84c17d99c5",
   "metadata": {},
   "outputs": [],
   "source": [
    "## Data Science Tools\n",
    "\n",
    "| Tool          | Description                          |\n",
    "| ------------- | ------------------------------------ |\n",
    "| Jupyter       | Interactive computing              |\n",
    "| VS Code       | Integrated development environment  |\n",
    "| Tableau       | Data visualization and analytics    |\n",
    "| Git           | Version control system              |\n",
    "| Docker        | Containerization platform            |\n"
   ]
  },
  {
   "cell_type": "code",
   "execution_count": null,
   "id": "ce7178b4-0ea9-439f-af6b-a389b862fb3a",
   "metadata": {},
   "outputs": [],
   "source": [
    "## Arithmetic Expression Examples\n",
    "\n",
    "In this section, we'll explore some basic arithmetic expressions to demonstrate mathematical operations in data science.\n"
   ]
  },
  {
   "cell_type": "code",
   "execution_count": null,
   "id": "49c50347-9d11-413a-90b7-fef15fc6eb09",
   "metadata": {},
   "outputs": [],
   "source": [
    "# Multiply and add numbers\n",
    "result_multiply = 5 * 10\n",
    "result_add = 15 + 20\n",
    "\n",
    "result_multiply, result_add\n"
   ]
  },
  {
   "cell_type": "code",
   "execution_count": null,
   "id": "b1a77d96-110a-4672-bea5-bdd1f3604176",
   "metadata": {},
   "outputs": [],
   "source": [
    "# Convert minutes to hours\n",
    "minutes = 120\n",
    "hours = minutes / 60\n",
    "\n",
    "hours\n"
   ]
  },
  {
   "cell_type": "code",
   "execution_count": null,
   "id": "a9f782b0-f24c-4811-9a5f-af894f855728",
   "metadata": {},
   "outputs": [],
   "source": [
    "## Objectives\n",
    "\n",
    "1. Explore data science languages and libraries.\n",
    "2. Understand basic arithmetic expressions in Python.\n",
    "3. Convert time units for data manipulation.\n",
    "4. Showcase familiarity with JupyterLite Notebook and GitHub.\n"
   ]
  },
  {
   "cell_type": "code",
   "execution_count": null,
   "id": "ecd62da2-d17f-421b-b1b6-6d1b07d2deda",
   "metadata": {},
   "outputs": [],
   "source": [
    "## Author\n",
    "\n",
    "**Your Name**\n"
   ]
  },
  {
   "cell_type": "code",
   "execution_count": null,
   "id": "cc4aeec5-33bb-4a98-8db6-91c6e9dae1e5",
   "metadata": {},
   "outputs": [],
   "source": []
  }
 ],
 "metadata": {
  "kernelspec": {
   "display_name": "Python 3 (ipykernel)",
   "language": "python",
   "name": "python3"
  },
  "language_info": {
   "codemirror_mode": {
    "name": "ipython",
    "version": 3
   },
   "file_extension": ".py",
   "mimetype": "text/x-python",
   "name": "python",
   "nbconvert_exporter": "python",
   "pygments_lexer": "ipython3",
   "version": "3.11.6"
  }
 },
 "nbformat": 4,
 "nbformat_minor": 5
}
