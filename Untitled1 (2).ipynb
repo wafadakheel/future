{
 "cells": [
  {
   "cell_type": "markdown",
   "id": "30e7372b-ff67-4b7f-b87f-e92a831c0ab7",
   "metadata": {},
   "source": [
    "# Data Science Tools and Techniques"
   ]
  },
  {
   "cell_type": "markdown",
   "id": "c80a320d-8750-46af-853c-9df772c72929",
   "metadata": {},
   "source": [
    "## Introduction\n",
    "\n",
    "Welcome to my JupyterLite Notebook on Data Science Tools and Techniques. In this notebook, I'll explore various data science languages, libraries, and tools. We'll cover arithmetic expressions, code examples, and key objectives in the field of data science.\n",
    "\n",
    "Let's dive in!\n"
   ]
  },
  {
   "cell_type": "markdown",
   "id": "6d75e970-4e9a-4ae6-9ca5-6574572652df",
   "metadata": {},
   "source": [
    "## Data Science Languages\n",
    "\n",
    "- Python\n",
    "- R\n",
    "- Julia\n",
    "- SQL\n"
   ]
  },
  {
   "cell_type": "markdown",
   "id": "930f717f-6d43-43b6-aa0f-1871d257d2f7",
   "metadata": {},
   "source": [
    "## Data Science Libraries\n",
    "\n",
    "- NumPy\n",
    "- Pandas\n",
    "- Matplotlib\n",
    "- Seaborn\n",
    "- Scikit-learn\n",
    "- TensorFlow\n",
    "- PyTorch\n"
   ]
  },
  {
   "cell_type": "markdown",
   "id": "0c61c87e-1277-403d-838d-30d8e87bbb78",
   "metadata": {},
   "source": [
    "## Data Science Tools\n",
    "\n",
    "| Tool          | Description                          |\n",
    "| ------------- | ------------------------------------ |\n",
    "| Jupyter       | Interactive computing              |\n",
    "| VS Code       | Integrated development environment  |\n",
    "| Tableau       | Data visualization and analytics    |\n",
    "| Git           | Version control system              |\n",
    "| Docker        | Containerization platform            |\n"
   ]
  },
  {
   "cell_type": "markdown",
   "id": "3a11ae4b-09f8-4e28-a8e8-c6744ec4cec1",
   "metadata": {},
   "source": [
    "## Arithmetic Expression Examples\n",
    "\n",
    "In this section, we'll explore some basic arithmetic expressions to demonstrate mathematical operations in data science.\n"
   ]
  },
  {
   "cell_type": "markdown",
   "id": "8bafdd9a-5dca-43ea-9136-19df0514dbe4",
   "metadata": {},
   "source": [
    "# Multiply and add numbers\n",
    "result_multiply = 5 * 10\n",
    "result_add = 15 + 20\n",
    "\n",
    "result_multiply, result_add\n"
   ]
  },
  {
   "cell_type": "markdown",
   "id": "e3a7b13e-1c67-4eb1-8bb4-9863cf472d04",
   "metadata": {},
   "source": [
    "# Convert minutes to hours\n",
    "minutes = 120\n",
    "hours = minutes / 60\n",
    "\n",
    "hours\n"
   ]
  },
  {
   "cell_type": "markdown",
   "id": "92202621-8b29-4ee5-99dc-e7067105bf54",
   "metadata": {},
   "source": [
    "## Objectives\n",
    "\n",
    "1. Explore data science languages and libraries.\n",
    "2. Understand basic arithmetic expressions in Python.\n",
    "3. Convert time units for data manipulation.\n",
    "4. Showcase familiarity with JupyterLite Notebook and GitHub.\n"
   ]
  },
  {
   "cell_type": "markdown",
   "id": "a7368262-53fb-4783-922c-6894205b0798",
   "metadata": {},
   "source": [
    "## Author\n",
    "\n",
    "**Your Name**\n"
   ]
  }
 ],
 "metadata": {
  "kernelspec": {
   "display_name": "Python 3 (ipykernel)",
   "language": "python",
   "name": "python3"
  },
  "language_info": {
   "codemirror_mode": {
    "name": "ipython",
    "version": 3
   },
   "file_extension": ".py",
   "mimetype": "text/x-python",
   "name": "python",
   "nbconvert_exporter": "python",
   "pygments_lexer": "ipython3",
   "version": "3.11.6"
  }
 },
 "nbformat": 4,
 "nbformat_minor": 5
}
